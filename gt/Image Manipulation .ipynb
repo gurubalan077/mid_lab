{
 "cells": [
  {
   "cell_type": "code",
   "execution_count": 2,
   "id": "8fa5a8c5-745e-41c1-9fda-5a1390636744",
   "metadata": {},
   "outputs": [],
   "source": [
    "import cv2\n",
    "\n",
    "# Read the image\n",
    "img = cv2.imread(\"FCB.jpg\")\n",
    "\n",
    "# Check if the image was loaded successfully\n",
    "if img is None:\n",
    "    print(\"Error: Could not load the image. Check the file path.\")\n",
    "    exit()\n",
    "\n",
    "# Display the original image\n",
    "cv2.imshow(\"Original Image\", img)\n",
    "\n",
    "# Resize the image\n",
    "new_width, new_height = 200, 200  # Example dimensions\n",
    "resized_image = cv2.resize(img, (new_width, new_height))\n",
    "cv2.imshow(\"Resized Image\", resized_image)\n",
    "\n",
    "# Rotate the image\n",
    "height, width = img.shape[:2]\n",
    "center = (width // 2, height // 2)  # Center of rotation\n",
    "angle = 45  # Rotation angle\n",
    "scale = 1.0  # Scaling factor\n",
    "rotation_matrix = cv2.getRotationMatrix2D(center, angle, scale)\n",
    "rotated_image = cv2.warpAffine(img, rotation_matrix, (width, height))\n",
    "cv2.imshow(\"Rotated Image\", rotated_image)\n",
    "\n",
    "# Extract ROI (Region of Interest)\n",
    "x1, y1, x2, y2 = 50, 50, 150, 150  # Example ROI coordinates\n",
    "roi = img[y1:y2, x1:x2]\n",
    "cv2.imshow(\"ROI\", roi)\n",
    "\n",
    "# Apply Gaussian Blur\n",
    "kernel_width, kernel_height = 15, 15  # Kernel size (must be odd)\n",
    "sigma = 0  # Sigma value for Gaussian blur\n",
    "blurred_image = cv2.GaussianBlur(img, (kernel_width, kernel_height), sigma)\n",
    "cv2.imshow(\"Blurred Image\", blurred_image)\n",
    "\n",
    "# Wait for a key press and close all windows\n",
    "cv2.waitKey(0)\n",
    "cv2.destroyAllWindows()\n"
   ]
  },
  {
   "cell_type": "code",
   "execution_count": null,
   "id": "4ef71e23-20e2-47e5-8770-647642546914",
   "metadata": {},
   "outputs": [],
   "source": []
  }
 ],
 "metadata": {
  "kernelspec": {
   "display_name": "Python 3 (ipykernel)",
   "language": "python",
   "name": "python3"
  },
  "language_info": {
   "codemirror_mode": {
    "name": "ipython",
    "version": 3
   },
   "file_extension": ".py",
   "mimetype": "text/x-python",
   "name": "python",
   "nbconvert_exporter": "python",
   "pygments_lexer": "ipython3",
   "version": "3.12.4"
  }
 },
 "nbformat": 4,
 "nbformat_minor": 5
}
