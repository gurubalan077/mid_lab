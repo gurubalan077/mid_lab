{
 "cells": [
  {
   "cell_type": "markdown",
   "id": "f7188592-5494-4693-93a7-54c6de3b0f70",
   "metadata": {},
   "source": [
    "## 1 Fundamental Image Operations "
   ]
  },
  {
   "cell_type": "markdown",
   "id": "c7778ed9-ec77-4bce-8ac8-670eb4149b4f",
   "metadata": {},
   "source": [
    "## IMAGE"
   ]
  },
  {
   "cell_type": "code",
   "execution_count": 1,
   "id": "59e40de5-d1f2-46e2-9f53-02efda143cbb",
   "metadata": {},
   "outputs": [],
   "source": [
    "import cv2 "
   ]
  },
  {
   "cell_type": "code",
   "execution_count": 2,
   "id": "5f27aa27-9bbf-4093-ba2d-699b4ea02cbc",
   "metadata": {},
   "outputs": [],
   "source": [
    "image = cv2.imread(\"MEDA.jpg\") "
   ]
  },
  {
   "cell_type": "code",
   "execution_count": 3,
   "id": "6b18fc54-3cc3-4bf4-9210-7534ec713c6c",
   "metadata": {},
   "outputs": [],
   "source": [
    "cv2.imshow(\"Original Image\", image) "
   ]
  },
  {
   "cell_type": "code",
   "execution_count": 4,
   "id": "8faaf694-b78f-4912-bede-58de19642074",
   "metadata": {},
   "outputs": [],
   "source": [
    "gray_image = cv2.cvtColor(image, cv2.COLOR_BGR2GRAY) "
   ]
  },
  {
   "cell_type": "code",
   "execution_count": 5,
   "id": "d78220b4-130e-4b90-a73f-b66f3241c8f7",
   "metadata": {},
   "outputs": [],
   "source": [
    "cv2.imshow(\"Grayscale Image\", gray_image) "
   ]
  },
  {
   "cell_type": "code",
   "execution_count": 6,
   "id": "83625301-5dfb-4ce3-b5a4-9701866e4e97",
   "metadata": {},
   "outputs": [],
   "source": [
    "cv2.waitKey(0)\n",
    "cv2.destroyAllWindows() "
   ]
  },
  {
   "cell_type": "code",
   "execution_count": null,
   "id": "25b0d471-9926-4beb-8219-e30dab12bcbf",
   "metadata": {},
   "outputs": [],
   "source": []
  },
  {
   "cell_type": "markdown",
   "id": "f5d02dcf-f8b4-408e-b9d2-0040ac103833",
   "metadata": {},
   "source": [
    "# Video"
   ]
  },
  {
   "cell_type": "code",
   "execution_count": 7,
   "id": "2801ea2d-27d9-49bf-9fbf-fb045cd33f54",
   "metadata": {},
   "outputs": [],
   "source": [
    "import cv2\n",
    "\n",
    "video_path = \"MESSI.mp4\" \n",
    "video_capture = cv2.VideoCapture(video_path)\n",
    "\n",
    "if not video_capture.isOpened():\n",
    "    print(\"Error: Could not open video file.\")\n",
    "    exit()\n",
    "\n",
    "while True:\n",
    "    ret, frame = video_capture.read()\n",
    "    if not ret:\n",
    "        print(\"Info: End of video or error reading frame.\")\n",
    "        break\n",
    "\n",
    "    cv2.imshow(\"Video\", frame)\n",
    "\n",
    "    if cv2.waitKey(1) & 0xFF == ord('q'):\n",
    "        break\n",
    "\n",
    "video_capture.release()\n",
    "cv2.destroyAllWindows()\n"
   ]
  }
 ],
 "metadata": {
  "kernelspec": {
   "display_name": "Python 3 (ipykernel)",
   "language": "python",
   "name": "python3"
  },
  "language_info": {
   "codemirror_mode": {
    "name": "ipython",
    "version": 3
   },
   "file_extension": ".py",
   "mimetype": "text/x-python",
   "name": "python",
   "nbconvert_exporter": "python",
   "pygments_lexer": "ipython3",
   "version": "3.12.4"
  }
 },
 "nbformat": 4,
 "nbformat_minor": 5
}
