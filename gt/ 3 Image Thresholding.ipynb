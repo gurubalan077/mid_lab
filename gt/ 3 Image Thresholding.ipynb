{
 "cells": [
  {
   "cell_type": "markdown",
   "id": "5b1aca91-708b-46ee-947d-3a6bc7b681ec",
   "metadata": {},
   "source": [
    "## Image Thresholding"
   ]
  },
  {
   "cell_type": "code",
   "execution_count": 1,
   "id": "b3dc67a8-c5d4-4da2-a586-6b92accb7521",
   "metadata": {},
   "outputs": [],
   "source": [
    "import cv2\n",
    "\n",
    "img = cv2.imread(\"FCB.jpg\")"
   ]
  },
  {
   "cell_type": "code",
   "execution_count": 2,
   "id": "ac41ef71-bac4-4c80-a3d7-fb5d55061244",
   "metadata": {},
   "outputs": [],
   "source": [
    "gray_image = cv2.cvtColor(img, cv2.COLOR_BGR2GRAY)"
   ]
  },
  {
   "cell_type": "code",
   "execution_count": 3,
   "id": "07187afd-d889-45a4-b3db-047d9009b2d5",
   "metadata": {},
   "outputs": [],
   "source": [
    "# Apply Binary thresholding method \n",
    "threshold_value = 127  \n",
    "max_value = 255  \n",
    "block_size = 11        # Size of the pixel neighborhood (must be odd)\n",
    "C = 2                  # Constant subtracted from the mean\n",
    "\n",
    "ret, binary_thresholded_image = cv2.threshold(gray_image, threshold_value, max_value, cv2.THRESH_BINARY)\n"
   ]
  },
  {
   "cell_type": "code",
   "execution_count": 4,
   "id": "96c40c1e-6ddd-4fab-83cc-5da400f4538e",
   "metadata": {},
   "outputs": [],
   "source": [
    "# Apply Binary inverse threshold method \n",
    "ret, binary_inverse_thresholded_image = cv2.threshold(gray_image, \n",
    "threshold_value, max_value, cv2.THRESH_BINARY_INV)"
   ]
  },
  {
   "cell_type": "code",
   "execution_count": 5,
   "id": "e3ce4fbf-5a5b-4220-a1d0-39d98fa42d76",
   "metadata": {},
   "outputs": [],
   "source": [
    "# Apply Adaptive thresholding (Gaussian) \n",
    "adaptive_thresholded_image_gaussian = cv2.adaptiveThreshold(gray_image, \n",
    "max_value, cv2.ADAPTIVE_THRESH_GAUSSIAN_C, cv2.THRESH_BINARY, block_size, \n",
    "C)"
   ]
  },
  {
   "cell_type": "code",
   "execution_count": 6,
   "id": "f76aada4-563c-40cf-a818-e63d94d31b24",
   "metadata": {},
   "outputs": [],
   "source": [
    "# Apply Adaptive thresholding (Mean) \n",
    "adaptive_thresholded_image_mean = cv2.adaptiveThreshold(gray_image, \n",
    "max_value, cv2.ADAPTIVE_THRESH_MEAN_C, cv2.THRESH_BINARY, block_size, C) "
   ]
  },
  {
   "cell_type": "code",
   "execution_count": 7,
   "id": "db856fdc-c78b-42fd-a3f4-8d83df02db20",
   "metadata": {},
   "outputs": [],
   "source": [
    "# Display the original and thresholded images for each method\n",
    "cv2.imshow(\"Original Image\", img)\n",
    "cv2.imshow(\"Binary Thresholded Image\", binary_thresholded_image)\n",
    "cv2.imshow(\"Binary Inverse Thresholded Image\", binary_inverse_thresholded_image)\n",
    "cv2.imshow(\"Adaptive Thresholded Image (Gaussian)\", adaptive_thresholded_image_gaussian)\n",
    "cv2.imshow(\"Adaptive Thresholded Image (Mean)\", adaptive_thresholded_image_mean)\n",
    "\n",
    "# Wait for a key press to close the windows\n",
    "cv2.waitKey(0)\n",
    "\n",
    "# Close all OpenCV windows\n",
    "cv2.destroyAllWindows()"
   ]
  },
  {
   "cell_type": "code",
   "execution_count": null,
   "id": "f59acfdc-8706-4719-8692-4718e83e6ade",
   "metadata": {},
   "outputs": [],
   "source": []
  },
  {
   "cell_type": "code",
   "execution_count": null,
   "id": "5e13c34a-e575-4ed9-82d0-455a18ac2851",
   "metadata": {},
   "outputs": [],
   "source": []
  },
  {
   "cell_type": "code",
   "execution_count": null,
   "id": "573bd19a-7ab7-4bbe-a8f9-62dd93299145",
   "metadata": {},
   "outputs": [],
   "source": []
  },
  {
   "cell_type": "markdown",
   "id": "885fd646-c62f-4a9d-a9f3-755d62bae90b",
   "metadata": {},
   "source": [
    "# METHOD 2"
   ]
  },
  {
   "cell_type": "code",
   "execution_count": 8,
   "id": "a9d64f40-4bfe-4f47-bd5a-be9ceb69a783",
   "metadata": {},
   "outputs": [],
   "source": [
    "import cv2\n",
    "\n",
    "# Load an image from file\n",
    "image = cv2.imread(\"FCB.jpg\")\n",
    "\n",
    "# Check if the image was loaded successfully\n",
    "if image is None:\n",
    "    print(\"Error: Could not load the image. Check the file path.\")\n",
    "    exit()\n",
    "\n",
    "# Convert the image to grayscale\n",
    "gray_image = cv2.cvtColor(image, cv2.COLOR_BGR2GRAY)\n",
    "\n",
    "# Define parameters\n",
    "threshold_value = 127  # Example threshold value\n",
    "max_value = 255        # Maximum value to assign\n",
    "block_size = 11        # Size of the pixel neighborhood (must be odd)\n",
    "C = 2                  # Constant subtracted from the mean\n",
    "\n",
    "# Apply Binary thresholding method\n",
    "_, binary_thresholded_image = cv2.threshold(\n",
    "    gray_image, threshold_value, max_value, cv2.THRESH_BINARY\n",
    ")\n",
    "\n",
    "# Apply Binary inverse threshold method\n",
    "_, binary_inverse_thresholded_image = cv2.threshold(\n",
    "    gray_image, threshold_value, max_value, cv2.THRESH_BINARY_INV\n",
    ")\n",
    "\n",
    "# Apply Adaptive thresholding (Gaussian)\n",
    "adaptive_thresholded_image_gaussian = cv2.adaptiveThreshold(\n",
    "    gray_image, max_value, cv2.ADAPTIVE_THRESH_GAUSSIAN_C, cv2.THRESH_BINARY, block_size, C\n",
    ")\n",
    "\n",
    "# Apply Adaptive thresholding (Mean)\n",
    "adaptive_thresholded_image_mean = cv2.adaptiveThreshold(\n",
    "    gray_image, max_value, cv2.ADAPTIVE_THRESH_MEAN_C, cv2.THRESH_BINARY, block_size, C\n",
    ")\n",
    "\n",
    "# Display the original and thresholded images for each method\n",
    "cv2.imshow(\"Original Image\", image)\n",
    "cv2.imshow(\"Binary Thresholded Image\", binary_thresholded_image)\n",
    "cv2.imshow(\"Binary Inverse Thresholded Image\", binary_inverse_thresholded_image)\n",
    "cv2.imshow(\"Adaptive Thresholded Image (Gaussian)\", adaptive_thresholded_image_gaussian)\n",
    "cv2.imshow(\"Adaptive Thresholded Image (Mean)\", adaptive_thresholded_image_mean)\n",
    "\n",
    "# Wait for a key press to close the windows\n",
    "cv2.waitKey(0)\n",
    "\n",
    "# Close all OpenCV windows\n",
    "cv2.destroyAllWindows()\n"
   ]
  },
  {
   "cell_type": "code",
   "execution_count": null,
   "id": "366c4d4b-f7c2-4f49-b44f-64a70388f6c8",
   "metadata": {},
   "outputs": [],
   "source": []
  }
 ],
 "metadata": {
  "kernelspec": {
   "display_name": "Python 3 (ipykernel)",
   "language": "python",
   "name": "python3"
  },
  "language_info": {
   "codemirror_mode": {
    "name": "ipython",
    "version": 3
   },
   "file_extension": ".py",
   "mimetype": "text/x-python",
   "name": "python",
   "nbconvert_exporter": "python",
   "pygments_lexer": "ipython3",
   "version": "3.12.4"
  }
 },
 "nbformat": 4,
 "nbformat_minor": 5
}
