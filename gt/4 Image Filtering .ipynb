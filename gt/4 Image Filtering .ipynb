{
 "cells": [
  {
   "cell_type": "code",
   "execution_count": 3,
   "id": "156de58f-40c7-4371-a44e-56b220bce3b0",
   "metadata": {},
   "outputs": [],
   "source": [
    "import cv2\n",
    "\n",
    "# Load an image from file\n",
    "image = cv2.imread(\"FCB.jpg\")\n",
    "\n",
    "# Convert the image to grayscale\n",
    "gray_image = cv2.cvtColor(image, cv2.COLOR_BGR2GRAY)\n",
    "\n",
    "# Define parameters for filters\n",
    "kernel_size_x, kernel_size_y = 5, 5  \n",
    "sigma_x = 1.5                        \n",
    "kernel_size = 5                      \n",
    "diameter = 9                         \n",
    "sigma_color = 75                     \n",
    "sigma_space = 75                     \n",
    "\n",
    "# Apply different image filters\n",
    "# Gaussian blur\n",
    "gaussian_blurred_image = cv2.GaussianBlur(image, (kernel_size_x, kernel_size_y), sigma_x)\n",
    "\n",
    "# Median blur\n",
    "median_blurred_image = cv2.medianBlur(image, kernel_size)\n",
    "\n",
    "# Bilateral filter\n",
    "bilateral_filtered_image = cv2.bilateralFilter(image, diameter, sigma_color, sigma_space)\n",
    "\n",
    "# Box filter (simple averaging)\n",
    "box_filtered_image = cv2.boxFilter(image, -1, (kernel_size_x, kernel_size_y))\n",
    "\n",
    "# Display the original and filtered images for each method\n",
    "cv2.imshow(\"Original Image\", image)\n",
    "cv2.imshow(\"Gaussian Blurred Image\", gaussian_blurred_image)\n",
    "cv2.imshow(\"Median Blurred Image\", median_blurred_image)\n",
    "cv2.imshow(\"Bilateral Filtered Image\", bilateral_filtered_image)\n",
    "cv2.imshow(\"Box Filtered Image\", box_filtered_image)\n",
    "\n",
    "# Wait for a key press to close the windows\n",
    "cv2.waitKey(0)\n",
    "\n",
    "# Close all OpenCV windows\n",
    "cv2.destroyAllWindows()\n"
   ]
  },
  {
   "cell_type": "code",
   "execution_count": null,
   "id": "dd0e28b6-ce82-4fa9-88a8-f413e8107f95",
   "metadata": {},
   "outputs": [],
   "source": []
  }
 ],
 "metadata": {
  "kernelspec": {
   "display_name": "Python 3 (ipykernel)",
   "language": "python",
   "name": "python3"
  },
  "language_info": {
   "codemirror_mode": {
    "name": "ipython",
    "version": 3
   },
   "file_extension": ".py",
   "mimetype": "text/x-python",
   "name": "python",
   "nbconvert_exporter": "python",
   "pygments_lexer": "ipython3",
   "version": "3.12.4"
  }
 },
 "nbformat": 4,
 "nbformat_minor": 5
}
