{
 "cells": [
  {
   "cell_type": "code",
   "execution_count": 7,
   "id": "4f1ccf37",
   "metadata": {},
   "outputs": [],
   "source": [
    "data = [1,2,3,4,5,6,7,8,9,10,11,12,13,14,15,16,28,29,30,31,879,17,18,19,20,21,22,23]"
   ]
  },
  {
   "cell_type": "code",
   "execution_count": 8,
   "id": "fbac0410",
   "metadata": {},
   "outputs": [],
   "source": [
    "data.sort()"
   ]
  },
  {
   "cell_type": "code",
   "execution_count": 9,
   "id": "719a0aa5",
   "metadata": {},
   "outputs": [
    {
     "name": "stdout",
     "output_type": "stream",
     "text": [
      "[1, 2, 3, 4, 5, 6, 7, 8, 9, 10, 11, 12, 13, 14, 15, 16, 17, 18, 19, 20, 21, 22, 23, 28, 29, 30, 31, 879]\n"
     ]
    }
   ],
   "source": [
    "print(data)"
   ]
  },
  {
   "cell_type": "code",
   "execution_count": 10,
   "id": "f2a72ea2",
   "metadata": {},
   "outputs": [
    {
     "name": "stdout",
     "output_type": "stream",
     "text": [
      "enter the search element :55\n"
     ]
    }
   ],
   "source": [
    "elem=int(input(\"enter the search element :\"))"
   ]
  },
  {
   "cell_type": "code",
   "execution_count": 11,
   "id": "7d46988d",
   "metadata": {},
   "outputs": [],
   "source": [
    "def binary_search(data, elem):\n",
    "    \n",
    "    low = 0\n",
    "    high = len(data) - 1\n",
    "    \n",
    "    while low <= high:\n",
    "        middle = (low + high) // 2\n",
    "        \n",
    "        if data[middle] == elem:\n",
    "            print(f\"The search element {elem} is present at index value {middle} in dataset\")\n",
    "            break\n",
    "        \n",
    "        elif data[middle] > elem:\n",
    "            high = middle - 1\n",
    "        \n",
    "        else:\n",
    "            low = middle + 1\n",
    "    if data[middle] != elem:\n",
    "          print(f\"The search element {elem} is not present in the dataset\")\n",
    "    return -1"
   ]
  },
  {
   "cell_type": "code",
   "execution_count": 12,
   "id": "d3a557de",
   "metadata": {},
   "outputs": [
    {
     "name": "stdout",
     "output_type": "stream",
     "text": [
      "The search element 55 is not present in the dataset\n"
     ]
    },
    {
     "data": {
      "text/plain": [
       "-1"
      ]
     },
     "execution_count": 12,
     "metadata": {},
     "output_type": "execute_result"
    }
   ],
   "source": [
    " binary_search(data,elem)"
   ]
  },
  {
   "cell_type": "code",
   "execution_count": null,
   "id": "bd3e69a9",
   "metadata": {},
   "outputs": [],
   "source": []
  }
 ],
 "metadata": {
  "kernelspec": {
   "display_name": "Python 3 (ipykernel)",
   "language": "python",
   "name": "python3"
  },
  "language_info": {
   "codemirror_mode": {
    "name": "ipython",
    "version": 3
   },
   "file_extension": ".py",
   "mimetype": "text/x-python",
   "name": "python",
   "nbconvert_exporter": "python",
   "pygments_lexer": "ipython3",
   "version": "3.11.4"
  }
 },
 "nbformat": 4,
 "nbformat_minor": 5
}
