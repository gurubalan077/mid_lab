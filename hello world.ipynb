{
 "cells": [
  {
   "cell_type": "code",
   "execution_count": null,
   "id": "deeca729",
   "metadata": {},
   "outputs": [],
   "source": [
    "# Importing required library\n",
    "from flask import Flask\n",
    "# Defining flask name\n",
    "hwapp = Flask(__name__)\n",
    "# Creating main page\n",
    "@hwapp.route('/')\n",
    "def index():\n",
    "    return 'Bsc (ai)' \n",
    "if __name__ == \"__main__\":\n",
    "    hwapp.run()"
   ]
  },
  {
   "cell_type": "code",
   "execution_count": null,
   "id": "25a6ab8f",
   "metadata": {},
   "outputs": [],
   "source": []
  }
 ],
 "metadata": {
  "kernelspec": {
   "display_name": "Python 3 (ipykernel)",
   "language": "python",
   "name": "python3"
  },
  "language_info": {
   "codemirror_mode": {
    "name": "ipython",
    "version": 3
   },
   "file_extension": ".py",
   "mimetype": "text/x-python",
   "name": "python",
   "nbconvert_exporter": "python",
   "pygments_lexer": "ipython3",
   "version": "3.9.13"
  }
 },
 "nbformat": 4,
 "nbformat_minor": 5
}
