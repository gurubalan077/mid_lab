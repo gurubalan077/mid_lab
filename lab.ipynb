{
 "cells": [
  {
   "cell_type": "code",
   "execution_count": 6,
   "id": "18aadddf",
   "metadata": {},
   "outputs": [],
   "source": [
    "import ad02"
   ]
  },
  {
   "cell_type": "code",
   "execution_count": 7,
   "id": "e844ec7b",
   "metadata": {},
   "outputs": [
    {
     "name": "stdout",
     "output_type": "stream",
     "text": [
      "13\n"
     ]
    }
   ],
   "source": [
    "ad02.add(4,9)"
   ]
  },
  {
   "cell_type": "code",
   "execution_count": 8,
   "id": "b681f338",
   "metadata": {},
   "outputs": [
    {
     "name": "stdout",
     "output_type": "stream",
     "text": [
      "43\n"
     ]
    }
   ],
   "source": [
    "ad02.sub(53,10)"
   ]
  },
  {
   "cell_type": "code",
   "execution_count": 11,
   "id": "a6e06c17",
   "metadata": {},
   "outputs": [
    {
     "name": "stdout",
     "output_type": "stream",
     "text": [
      "100\n"
     ]
    }
   ],
   "source": [
    "ad02.pro(20,5)"
   ]
  },
  {
   "cell_type": "code",
   "execution_count": 12,
   "id": "fee77bf0",
   "metadata": {},
   "outputs": [
    {
     "name": "stdout",
     "output_type": "stream",
     "text": [
      "66.6\n"
     ]
    }
   ],
   "source": [
    "ad02.div(666,10)"
   ]
  },
  {
   "cell_type": "markdown",
   "id": "f7cdcb0a",
   "metadata": {},
   "source": [
    "# my self"
   ]
  },
  {
   "cell_type": "code",
   "execution_count": 19,
   "id": "ea9ef4a2",
   "metadata": {},
   "outputs": [
    {
     "ename": "SyntaxError",
     "evalue": "invalid syntax (2014025687.py, line 1)",
     "output_type": "error",
     "traceback": [
      "\u001b[1;36m  File \u001b[1;32m\"C:\\Users\\aedpu\\AppData\\Local\\Temp\\ipykernel_3408\\2014025687.py\"\u001b[1;36m, line \u001b[1;32m1\u001b[0m\n\u001b[1;33m    def ad:\u001b[0m\n\u001b[1;37m          ^\u001b[0m\n\u001b[1;31mSyntaxError\u001b[0m\u001b[1;31m:\u001b[0m invalid syntax\n"
     ]
    }
   ],
   "source": [
    "def ad:\n",
    "    a = int(input(\"Enter the valvue of a\"))\n",
    "    b = int(input(\"Enter the valvue od b\"))\n",
    "    "
   ]
  },
  {
   "cell_type": "code",
   "execution_count": null,
   "id": "fb857bd3",
   "metadata": {},
   "outputs": [],
   "source": []
  }
 ],
 "metadata": {
  "kernelspec": {
   "display_name": "Python 3 (ipykernel)",
   "language": "python",
   "name": "python3"
  },
  "language_info": {
   "codemirror_mode": {
    "name": "ipython",
    "version": 3
   },
   "file_extension": ".py",
   "mimetype": "text/x-python",
   "name": "python",
   "nbconvert_exporter": "python",
   "pygments_lexer": "ipython3",
   "version": "3.9.13"
  }
 },
 "nbformat": 4,
 "nbformat_minor": 5
}
