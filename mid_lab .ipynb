{
 "cells": [
  {
   "cell_type": "markdown",
   "id": "23ee859f",
   "metadata": {},
   "source": [
    "# Ex01.Write the python code to declare and execute some operations of Numeric, String and Array datatypes in python"
   ]
  },
  {
   "cell_type": "code",
   "execution_count": 4,
   "id": "94d3694f",
   "metadata": {},
   "outputs": [
    {
     "name": "stdout",
     "output_type": "stream",
     "text": [
      "Enter the a number:4\n",
      "Enter the a number:5\n",
      "a =  4\n",
      "b =  5\n",
      "c =  (1+2j)\n",
      "sum of a and b = 9\n",
      "difference of a and b = -1\n",
      "product of a and b = 20\n",
      "quotient of a and b = 0.8\n"
     ]
    }
   ],
   "source": [
    "# Numeric datatype\n",
    "a = int(input(\"Enter the a number:\"))\n",
    "b = int(input(\"Enter the a number:\"))\n",
    "c = complex(1, 2) # complex number with real part 1 and imaginary part 2\n",
    "\n",
    "print(\"a = \", a)\n",
    "print(\"b = \", b)\n",
    "print(\"c = \", c)\n",
    "\n",
    "sum_ab = a + b\n",
    "diff_ab = a - b\n",
    "prod_ab = a * b\n",
    "quot_ab = a / b\n",
    "\n",
    "print(\"sum of a and b =\", sum_ab)\n",
    "print(\"difference of a and b =\", diff_ab)\n",
    "print(\"product of a and b =\", prod_ab)\n",
    "print(\"quotient of a and b =\", quot_ab)"
   ]
  },
  {
   "cell_type": "code",
   "execution_count": 7,
   "id": "a399860e",
   "metadata": {},
   "outputs": [
    {
     "name": "stdout",
     "output_type": "stream",
     "text": [
      "Enter the nameguru\n",
      "Hello, guru!\n",
      "Length of name is 4\n"
     ]
    }
   ],
   "source": [
    "\n",
    "# String datatype\n",
    "name = input(\"Enter the name\")\n",
    "greeting = \"Hello, \" + name + \"!\"\n",
    "\n",
    "print(greeting)\n",
    "print(\"Length of name is\", len(name))"
   ]
  },
  {
   "cell_type": "code",
   "execution_count": 8,
   "id": "de9939a5",
   "metadata": {},
   "outputs": [
    {
     "name": "stdout",
     "output_type": "stream",
     "text": [
      "sum of arr1 and arr2 = [ 7  9 11 13 15]\n",
      "difference of arr1 and arr2 = [-5 -5 -5 -5 -5]\n",
      "product of arr1 and arr2 = [ 6 14 24 36 50]\n",
      "quotient of arr1 and arr2 = [0.16666667 0.28571429 0.375      0.44444444 0.5       ]\n"
     ]
    }
   ],
   "source": [
    "# Array datatype\n",
    "import numpy as np\n",
    "\n",
    "arr1 = np.array([1, 2, 3, 4, 5])\n",
    "arr2 = np.array([6, 7, 8, 9, 10])\n",
    "\n",
    "sum_arr = arr1 + arr2\n",
    "diff_arr = arr1 - arr2\n",
    "prod_arr = arr1 * arr2\n",
    "quot_arr = arr1 / arr2\n",
    "\n",
    "print(\"sum of arr1 and arr2 =\", sum_arr)\n",
    "print(\"difference of arr1 and arr2 =\", diff_arr)\n",
    "print(\"product of arr1 and arr2 =\", prod_arr)\n",
    "print(\"quotient of arr1 and arr2 =\", quot_arr)\n"
   ]
  },
  {
   "cell_type": "markdown",
   "id": "71e88051",
   "metadata": {},
   "source": [
    "# EX02. Write and execute the python code to declare and execute some operations of List, Tuples, Set and Dictionary datatypes in python."
   ]
  },
  {
   "cell_type": "code",
   "execution_count": 10,
   "id": "eda21b0a",
   "metadata": {},
   "outputs": [
    {
     "name": "stdout",
     "output_type": "stream",
     "text": [
      "my_list =  [1, 2, 3, 4, 5, 6, 7, 8, 9, 10]\n",
      "Length of my_list is 10\n"
     ]
    }
   ],
   "source": [
    "my_list = [1, 2, 3, 4, 5, 6, 7, 8, 9, 10]\n",
    "\n",
    "print(\"my_list = \", my_list)\n",
    "print(\"Length of my_list is\", len(my_list))"
   ]
  },
  {
   "cell_type": "code",
   "execution_count": 13,
   "id": "99068140",
   "metadata": {},
   "outputs": [
    {
     "name": "stdout",
     "output_type": "stream",
     "text": [
      "[1, 2, 3, 4, 5, 6, 7, 8, 9, 10, 11, 11]\n"
     ]
    }
   ],
   "source": [
    "my_list.append(11)\n",
    "print(my_list)"
   ]
  },
  {
   "cell_type": "code",
   "execution_count": 14,
   "id": "d8cb5c02",
   "metadata": {},
   "outputs": [
    {
     "name": "stdout",
     "output_type": "stream",
     "text": [
      "[1, 2, 3, 4, 5, 7, 8, 9, 10, 11, 11]\n"
     ]
    }
   ],
   "source": [
    "my_list.pop(5)\n",
    "print(my_list)"
   ]
  },
  {
   "cell_type": "code",
   "execution_count": 15,
   "id": "8c924d58",
   "metadata": {},
   "outputs": [
    {
     "name": "stdout",
     "output_type": "stream",
     "text": [
      "my_tuple =  (1, 2, 3, 4, 5)\n",
      "Length of my_tuple is 5\n"
     ]
    }
   ],
   "source": [
    "# Tuple datatype\n",
    "my_tuple = (1, 2, 3, 4, 5)\n",
    "\n",
    "print(\"my_tuple = \", my_tuple)\n",
    "print(\"Length of my_tuple is\", len(my_tuple))"
   ]
  },
  {
   "cell_type": "code",
   "execution_count": 16,
   "id": "5b2cdb92",
   "metadata": {},
   "outputs": [
    {
     "name": "stdout",
     "output_type": "stream",
     "text": [
      "my_set =  {1, 2, 3, 4, 5}\n",
      "Length of my_set is 5\n"
     ]
    }
   ],
   "source": [
    "# Set datatype\n",
    "my_set = {1, 2, 3, 4, 5}\n",
    "\n",
    "print(\"my_set = \", my_set)\n",
    "print(\"Length of my_set is\", len(my_set))"
   ]
  },
  {
   "cell_type": "code",
   "execution_count": 17,
   "id": "ae7b2623",
   "metadata": {},
   "outputs": [
    {
     "name": "stdout",
     "output_type": "stream",
     "text": [
      "{1, 2, 3, 4, 5, 6}\n"
     ]
    }
   ],
   "source": [
    "my_set.add(6)\n",
    "print(my_set)"
   ]
  },
  {
   "cell_type": "code",
   "execution_count": 18,
   "id": "1830055a",
   "metadata": {},
   "outputs": [
    {
     "name": "stdout",
     "output_type": "stream",
     "text": [
      "{1, 2, 4, 5, 6}\n"
     ]
    }
   ],
   "source": [
    "my_set.discard(3)\n",
    "print(my_set)"
   ]
  },
  {
   "cell_type": "code",
   "execution_count": 19,
   "id": "21d70431",
   "metadata": {},
   "outputs": [
    {
     "name": "stdout",
     "output_type": "stream",
     "text": [
      "my_dict =  {'name': 'John', 'age': 30, 'city': 'New York'}\n"
     ]
    }
   ],
   "source": [
    "# Dictionary datatype\n",
    "my_dict = {\"name\": \"John\", \"age\": 30, \"city\": \"New York\"}\n",
    "\n",
    "print(\"my_dict = \", my_dict)"
   ]
  },
  {
   "cell_type": "markdown",
   "id": "2e49630c",
   "metadata": {},
   "source": [
    "# EX03 Write and execute the Python Code to implement the Conditional Statements in Python."
   ]
  },
  {
   "cell_type": "code",
   "execution_count": 22,
   "id": "c84160af",
   "metadata": {},
   "outputs": [
    {
     "name": "stdout",
     "output_type": "stream",
     "text": [
      "Enter the number5\n",
      "5 is a positive number.\n"
     ]
    }
   ],
   "source": [
    "num = int(input(\"Enter the number\"))\n",
    "\n",
    "if num > 0:\n",
    "    print(num, \"is a positive number.\")\n",
    "else:\n",
    "    print(num, \"is a negative number.\")"
   ]
  },
  {
   "cell_type": "markdown",
   "id": "8403706f",
   "metadata": {},
   "source": [
    "# EX04 Write and execute a Python Code to implement the Loops in Python with example code"
   ]
  },
  {
   "cell_type": "code",
   "execution_count": 23,
   "id": "dc731521",
   "metadata": {},
   "outputs": [
    {
     "name": "stdout",
     "output_type": "stream",
     "text": [
      "1\n",
      "2\n",
      "3\n",
      "4\n",
      "5\n",
      "0\n",
      "1\n",
      "2\n",
      "3\n",
      "4\n"
     ]
    }
   ],
   "source": [
    "# For loop\n",
    "numbers = [1, 2, 3, 4, 5]\n",
    "\n",
    "for num in numbers:\n",
    "    print(num)\n",
    "\n",
    "# While loop\n",
    "count = 0\n",
    "\n",
    "while count < 5:\n",
    "    print(count)\n",
    "    count += 1\n"
   ]
  },
  {
   "cell_type": "markdown",
   "id": "7c09ae04",
   "metadata": {},
   "source": [
    "# EX05. Write and execute a Simple python Code for building an expert system using Conditional Statements."
   ]
  },
  {
   "cell_type": "code",
   "execution_count": 24,
   "id": "ce356c75",
   "metadata": {},
   "outputs": [
    {
     "name": "stdout",
     "output_type": "stream",
     "text": [
      "What is your name? guru\n",
      "WELCOME TO OUR UNIVERSITY PMIST\n",
      "What is your age? 17\n",
      "What is your grade average? a\n",
      "What is your 12TH SCHOUR ? 350\n",
      "What course you want ?bsc(AI)\n",
      "Congratulations, guru You are eligible for : bsc(AI)in our  college admission.\n"
     ]
    }
   ],
   "source": [
    "name = input(\"What is your name? \")\n",
    "print(\"WELCOME TO OUR UNIVERSITY \"'PMIST')\n",
    "age = int(input(\"What is your age? \"))\n",
    "grade = (input(\"What is your grade average? \"))\n",
    "sat_score = int(input(\"What is your 12TH SCHOUR ? \"))\n",
    "course = input(\"What course you want ?\")\n",
    "if grade >= \"a\" or \"b\" or \"c\" or \"d\"  and age >= 21:\n",
    "    if sat_score >= 300:\n",
    "        print(f\"Congratulations, {name} You are eligible for : {course}in our  college admission.\")\n",
    "    else:\n",
    "        print(f\"Sorry, {name}, you need to score at least 300 on  12TH SCHOUR to be eligible for college admission.\")\n",
    "else:\n",
    "    print(f\"Sorry, {name}, you are not eligible for college admission.\")"
   ]
  },
  {
   "cell_type": "markdown",
   "id": "8210c046",
   "metadata": {},
   "source": [
    "# EX06 Write and execute the Python Code for creating Functions and Modules using Jupyter Notebook."
   ]
  },
  {
   "cell_type": "code",
   "execution_count": 25,
   "id": "a2e714e1",
   "metadata": {},
   "outputs": [],
   "source": [
    "#Moduls\n",
    "import ar"
   ]
  },
  {
   "cell_type": "code",
   "execution_count": 26,
   "id": "f878715a",
   "metadata": {},
   "outputs": [
    {
     "name": "stdout",
     "output_type": "stream",
     "text": [
      "598\n"
     ]
    }
   ],
   "source": [
    "A=ar.add(568,30)"
   ]
  },
  {
   "cell_type": "code",
   "execution_count": 27,
   "id": "4408fbb4",
   "metadata": {},
   "outputs": [
    {
     "name": "stdout",
     "output_type": "stream",
     "text": [
      "680\n"
     ]
    }
   ],
   "source": [
    "a=ar.sub(689,9)"
   ]
  },
  {
   "cell_type": "code",
   "execution_count": 28,
   "id": "0e32ff0f",
   "metadata": {},
   "outputs": [
    {
     "name": "stdout",
     "output_type": "stream",
     "text": [
      "160\n"
     ]
    }
   ],
   "source": [
    "a=ar.pro(8,20)"
   ]
  },
  {
   "cell_type": "code",
   "execution_count": 29,
   "id": "accdfcf1",
   "metadata": {},
   "outputs": [
    {
     "name": "stdout",
     "output_type": "stream",
     "text": [
      "0.5\n"
     ]
    }
   ],
   "source": [
    "a=ar.div(5,10)"
   ]
  },
  {
   "cell_type": "code",
   "execution_count": 33,
   "id": "abb8ff03",
   "metadata": {},
   "outputs": [],
   "source": [
    "#functions\n",
    "# Create a function\n",
    "def greet_person(name):\n",
    "    return f\"Hello, {name}! How are you today?\"\n"
   ]
  },
  {
   "cell_type": "code",
   "execution_count": 34,
   "id": "99c258e1",
   "metadata": {},
   "outputs": [
    {
     "name": "stdout",
     "output_type": "stream",
     "text": [
      "Hello, John! How are you today?\n"
     ]
    }
   ],
   "source": [
    "# Call the function\n",
    "greeting = greet_person(\"John\")\n",
    "\n",
    "print(greeting)\n"
   ]
  },
  {
   "cell_type": "markdown",
   "id": "a407209f",
   "metadata": {},
   "source": [
    "# Ex07 Write and execute the python code to create class and object using Inheritance concept."
   ]
  },
  {
   "cell_type": "code",
   "execution_count": 35,
   "id": "58462833",
   "metadata": {},
   "outputs": [],
   "source": [
    "class Person:\n",
    "    # contains the data\n",
    "    \n",
    "    def __init__(self, fname, lname, year, age, IDnumb):\n",
    "        self.fname = fname\n",
    "        self.lname = lname\n",
    "        self.DOByear = year\n",
    "        self.age = age\n",
    "        self.IDnumb = IDnumb\n",
    "        \n",
    "    def disp(self):\n",
    "        print(self.fname, self.lname)\n",
    "        print(self.DOByear)\n",
    "        print(self.age)\n",
    "        print(self.IDnumb)"
   ]
  },
  {
   "cell_type": "code",
   "execution_count": 36,
   "id": "f9ca3a90",
   "metadata": {},
   "outputs": [],
   "source": [
    "class Student(Person):\n",
    "    #\n",
    "    \n",
    "    def __init__(self, fname, lname, year, age, IDnumb, collage, year_study):\n",
    "        super().__init__(fname, lname, year, age, IDnumb)\n",
    "        self.collage = collage\n",
    "        self.year = year_study\n",
    "        \n",
    "    def study_disp(self):\n",
    "        print(f\"{self.fname} studies in {self.collage} and is in year {self.year}.\")"
   ]
  },
  {
   "cell_type": "code",
   "execution_count": 37,
   "id": "560cc3fb",
   "metadata": {},
   "outputs": [],
   "source": [
    "stud1 = Student(\"guru\",\"balan\",2005,19,1220121,\"pmist\",2018)"
   ]
  },
  {
   "cell_type": "code",
   "execution_count": 38,
   "id": "1afaa516",
   "metadata": {},
   "outputs": [
    {
     "name": "stdout",
     "output_type": "stream",
     "text": [
      "guru balan\n",
      "2005\n",
      "19\n",
      "1220121\n"
     ]
    }
   ],
   "source": [
    "stud1.disp()"
   ]
  },
  {
   "cell_type": "code",
   "execution_count": 39,
   "id": "26b4821c",
   "metadata": {},
   "outputs": [
    {
     "name": "stdout",
     "output_type": "stream",
     "text": [
      "guru studies in pmist and is in year 2018.\n"
     ]
    }
   ],
   "source": [
    "stud1.study_disp()"
   ]
  },
  {
   "cell_type": "markdown",
   "id": "38f4246f",
   "metadata": {},
   "source": [
    "# EX08. Write the algorithm and execute the python code for Binary Search and Bubble Sort."
   ]
  },
  {
   "cell_type": "code",
   "execution_count": 51,
   "id": "d19779e4",
   "metadata": {},
   "outputs": [],
   "source": [
    "#Binary Search\n",
    "data = [1,2,3,4,5,6,7,8,9,10,11,12,13,14,15,16,28,29,30,31,879,17,18,19,20,21,22,23]"
   ]
  },
  {
   "cell_type": "code",
   "execution_count": 52,
   "id": "a509c772",
   "metadata": {},
   "outputs": [],
   "source": [
    "data.sort()"
   ]
  },
  {
   "cell_type": "code",
   "execution_count": 53,
   "id": "afce05bd",
   "metadata": {},
   "outputs": [
    {
     "name": "stdout",
     "output_type": "stream",
     "text": [
      "[1, 2, 3, 4, 5, 6, 7, 8, 9, 10, 11, 12, 13, 14, 15, 16, 17, 18, 19, 20, 21, 22, 23, 28, 29, 30, 31, 879]\n"
     ]
    }
   ],
   "source": [
    "print(data)"
   ]
  },
  {
   "cell_type": "code",
   "execution_count": 55,
   "id": "7fef8bff",
   "metadata": {},
   "outputs": [
    {
     "name": "stdout",
     "output_type": "stream",
     "text": [
      "enter the search element :44\n"
     ]
    }
   ],
   "source": [
    "elem=int(input(\"enter the search element :\"))"
   ]
  },
  {
   "cell_type": "code",
   "execution_count": 56,
   "id": "48f79bac",
   "metadata": {},
   "outputs": [],
   "source": [
    "def binary_search(data, elem):\n",
    "    \n",
    "    low = 0\n",
    "    high = len(data) - 1\n",
    "    \n",
    "    while low <= high:\n",
    "        middle = (low + high) // 2\n",
    "        \n",
    "        if data[middle] == elem:\n",
    "            print(f\"The search element {elem} is present at index value {middle} in dataset\")\n",
    "            break\n",
    "        \n",
    "        elif data[middle] > elem:\n",
    "            high = middle - 1\n",
    "        \n",
    "        else:\n",
    "            low = middle + 1\n",
    "    if data[middle] != elem:\n",
    "            print(f\"The search element {elem} is not present in the dataset\")\n",
    "    return -1"
   ]
  },
  {
   "cell_type": "code",
   "execution_count": 57,
   "id": "b3302d53",
   "metadata": {},
   "outputs": [
    {
     "name": "stdout",
     "output_type": "stream",
     "text": [
      "The search element 44 is not present in the dataset\n"
     ]
    },
    {
     "data": {
      "text/plain": [
       "-1"
      ]
     },
     "execution_count": 57,
     "metadata": {},
     "output_type": "execute_result"
    }
   ],
   "source": [
    " binary_search(data,elem)"
   ]
  },
  {
   "cell_type": "code",
   "execution_count": 58,
   "id": "22fe9b4a",
   "metadata": {},
   "outputs": [
    {
     "name": "stdout",
     "output_type": "stream",
     "text": [
      "Before sorting the Array in Ascending Order :\n",
      "[-2, 45, 0, 54, 88, 99, 24, 513, 90]\n",
      "After Before sorting the array in Ascending Order:\n",
      "[-2, 0, 24, 45, 54, 88, 90, 99, 513]\n"
     ]
    }
   ],
   "source": [
    "#Bubble Sort\n",
    "# Bubble sort in python\n",
    "\n",
    "def bubblesort(data):\n",
    "    \n",
    "  # loop to access each array in element\n",
    "  for i in range(len(data)):\n",
    "        \n",
    "    # loop to compare array element\n",
    "    for j in range(0,len(data) - i - 1):\n",
    "        \n",
    "      #compare two adjecent element\n",
    "       if data[j] > data [j + 1]:\n",
    "            \n",
    "            # swapping element if element are not in the intemded order\n",
    "            temp = data[j]\n",
    "            data[j] = data[j+1]\n",
    "            data[j+1] = temp\n",
    "            \n",
    "data = [-2,45,0,54,88,99,24,513,90,]\n",
    "\n",
    "print('Before sorting the Array in Ascending Order :')\n",
    "print(data)\n",
    "\n",
    "bubblesort(data)\n",
    "\n",
    "print(\"After Before sorting the array in Ascending Order:\")\n",
    "print(data)"
   ]
  },
  {
   "cell_type": "markdown",
   "id": "7f860dce",
   "metadata": {},
   "source": [
    "# EX09. Write the algorithm and execute the python code for Breadth First Search algorithm."
   ]
  },
  {
   "cell_type": "code",
   "execution_count": 59,
   "id": "f68b01d2",
   "metadata": {},
   "outputs": [],
   "source": [
    "graph={\n",
    "    'sam':['Aaron','binny'],\n",
    "    'Aaron':['sam','christine','Denny'],\n",
    "    'binny':['Elvin','Flin'],\n",
    "    'christine':['Aaron'],\n",
    "    'Denny':['Aaron'],\n",
    "    'Elvin':['binny','Gini'],\n",
    "    'Flin':['binny'],\n",
    "    'Gini':['Elvin']\n",
    "}"
   ]
  },
  {
   "cell_type": "code",
   "execution_count": 60,
   "id": "cef5e09f",
   "metadata": {},
   "outputs": [],
   "source": [
    "from collections import deque\n",
    "def bfs(graph,start,goal):\n",
    "    visited=[]\n",
    "    queue=deque([start])\n",
    "    while queue:\n",
    "        node=queue.popleft()\n",
    "        if node not in visited:\n",
    "            visited.append(node)\n",
    "            print(\"I have visited:\",node)\n",
    "            neighbours=graph[node]\n",
    "            if node==goal:\n",
    "                return(\"I have reached the goal, this is my traversed path:\",visited)\n",
    "            for neighbour in neighbours:\n",
    "                queue.append(neighbour)"
   ]
  },
  {
   "cell_type": "code",
   "execution_count": 61,
   "id": "9615b2d4",
   "metadata": {},
   "outputs": [
    {
     "name": "stdout",
     "output_type": "stream",
     "text": [
      "I have visited: binny\n",
      "I have visited: Elvin\n",
      "I have visited: Flin\n"
     ]
    },
    {
     "data": {
      "text/plain": [
       "('I have reached the goal, this is my traversed path:',\n",
       " ['binny', 'Elvin', 'Flin'])"
      ]
     },
     "execution_count": 61,
     "metadata": {},
     "output_type": "execute_result"
    }
   ],
   "source": [
    "bfs(graph,'binny','Flin')"
   ]
  },
  {
   "cell_type": "markdown",
   "id": "5ea50794",
   "metadata": {},
   "source": [
    "# EX10. Write the algorithm and execute the python code for Depth First Search algorithm."
   ]
  },
  {
   "cell_type": "code",
   "execution_count": 63,
   "id": "c1734139",
   "metadata": {},
   "outputs": [],
   "source": [
    "graph = {\n",
    "    'sam': ['Aaron', 'binny'],\n",
    "    'Aaron': ['sam', 'christine', 'Denny'],\n",
    "    'binny': ['Elvin', 'Flin'],\n",
    "    'christine': ['Aaron'],\n",
    "    'Denny': ['Aaron'],\n",
    "    'Elvin': ['binny', 'Gini'],\n",
    "    'Flin': ['binny'],\n",
    "    'Gini': ['Elvin']\n",
    "}\n"
   ]
  },
  {
   "cell_type": "code",
   "execution_count": 64,
   "id": "edfbdbca",
   "metadata": {},
   "outputs": [],
   "source": [
    "def dfs(graph, start, goal, visited):\n",
    "    stack = [start]\n",
    "    while stack:\n",
    "        node = stack.pop()\n",
    "        if node not in visited:\n",
    "            visited.append(node)\n",
    "            if node == goal:\n",
    "                print(visited)\n",
    "            for neighbor in graph[node]:\n",
    "                dfs(graph, neighbor, goal, visited)"
   ]
  },
  {
   "cell_type": "code",
   "execution_count": 65,
   "id": "093e270c",
   "metadata": {},
   "outputs": [
    {
     "name": "stdout",
     "output_type": "stream",
     "text": [
      "['sam', 'Aaron', 'christine', 'Denny', 'binny', 'Elvin', 'Gini']\n"
     ]
    }
   ],
   "source": [
    "dfs(graph, 'sam', 'Gini', [])"
   ]
  },
  {
   "cell_type": "markdown",
   "id": "f3fdef0b",
   "metadata": {},
   "source": [
    "# EX11. Write and execute an expert system using Class and Object."
   ]
  },
  {
   "cell_type": "code",
   "execution_count": 66,
   "id": "3318c68d",
   "metadata": {},
   "outputs": [
    {
     "name": "stdout",
     "output_type": "stream",
     "text": [
      "Requirement already satisfied: experta in /opt/anaconda3/lib/python3.9/site-packages (1.9.4)\n",
      "Requirement already satisfied: frozendict==1.2 in /opt/anaconda3/lib/python3.9/site-packages (from experta) (1.2)\n",
      "Requirement already satisfied: schema==0.6.7 in /opt/anaconda3/lib/python3.9/site-packages (from experta) (0.6.7)\n",
      "Note: you may need to restart the kernel to use updated packages.\n"
     ]
    }
   ],
   "source": [
    "pip install experta"
   ]
  },
  {
   "cell_type": "code",
   "execution_count": 67,
   "id": "913dec55",
   "metadata": {},
   "outputs": [],
   "source": [
    "from experta import *\n",
    "\n",
    "class Greetings(KnowledgeEngine):\n",
    "    @DefFacts()\n",
    "    def _initial_action(self):\n",
    "        yield Fact(action=\"greet\")\n",
    "\n",
    "    @Rule(Fact(action=\"greet\"),\n",
    "          NOT(Fact(name=W())))\n",
    "    def ask_name(self):\n",
    "        self.declare(Fact(name=input(\"What is your name? \")))\n",
    "\n",
    "    @Rule(Fact(action=\"greet\"), \n",
    "          NOT(Fact(location=W())))\n",
    "    def ask_location(self):\n",
    "        self.declare(Fact(location=input(\"Where are you? \")))\n",
    "\n",
    "    @Rule(Fact(action=\"greet\"), \n",
    "          Fact(name=MATCH.name), \n",
    "          Fact(location=MATCH.location))\n",
    "    def greet(self, name, location):\n",
    "        print(\"Hi %s! How's the weather in %s ?\" % (name,location))"
   ]
  },
  {
   "cell_type": "code",
   "execution_count": 68,
   "id": "af20dc5b",
   "metadata": {},
   "outputs": [
    {
     "name": "stdout",
     "output_type": "stream",
     "text": [
      "Where are you? thanjavur\n",
      "What is your name? guru\n",
      "Hi guru! How's the weather in thanjavur ?\n"
     ]
    }
   ],
   "source": [
    "engine = Greetings()\n",
    "engine.reset()  # prepare the engine for execution\n",
    "engine.run()  # run it!"
   ]
  },
  {
   "cell_type": "code",
   "execution_count": null,
   "id": "834bccf8",
   "metadata": {},
   "outputs": [],
   "source": []
  }
 ],
 "metadata": {
  "kernelspec": {
   "display_name": "Python 3 (ipykernel)",
   "language": "python",
   "name": "python3"
  },
  "language_info": {
   "codemirror_mode": {
    "name": "ipython",
    "version": 3
   },
   "file_extension": ".py",
   "mimetype": "text/x-python",
   "name": "python",
   "nbconvert_exporter": "python",
   "pygments_lexer": "ipython3",
   "version": "3.9.13"
  }
 },
 "nbformat": 4,
 "nbformat_minor": 5
}
